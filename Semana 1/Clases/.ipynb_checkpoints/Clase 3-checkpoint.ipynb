{
 "cells": [
  {
   "cell_type": "code",
   "execution_count": 1,
   "id": "4ca9ca93-2b95-4424-b766-06e018b76d6c",
   "metadata": {},
   "outputs": [],
   "source": [
    "import pandas as pd\n",
    "import numpy as np"
   ]
  },
  {
   "cell_type": "code",
   "execution_count": 3,
   "id": "aa5cef72-2635-48f7-aa9e-d236c2ccf6b6",
   "metadata": {},
   "outputs": [
    {
     "name": "stdout",
     "output_type": "stream",
     "text": [
      "The moda of the sales is: 0.0\n"
     ]
    }
   ],
   "source": [
    "datos = {\n",
    "    'Dia 1': [0, 4, 10, 15, 19],\n",
    "    'Dia 2': [0, 4, 10, 15, 19],\n",
    "    'Dia 3': [2, 6, 11, 15, 20],\n",
    "    'Dia 4': [2, 8, 14, 16, 22]\n",
    "}\n",
    "\n",
    "# Crear DataFrame\n",
    "df = pd.DataFrame(datos)\n",
    "\n",
    "# Calcular la moda para cada día\n",
    "moda = df.mode().iloc[0]\n",
    "\n",
    "print(\"La moda de las ventas diarias es:\")\n",
    "print(moda)"
   ]
  },
  {
   "cell_type": "code",
   "execution_count": null,
   "id": "a951e781-ad1f-45fc-8174-b36c7822ce04",
   "metadata": {},
   "outputs": [],
   "source": []
  }
 ],
 "metadata": {
  "kernelspec": {
   "display_name": "Python 3 (ipykernel)",
   "language": "python",
   "name": "python3"
  },
  "language_info": {
   "codemirror_mode": {
    "name": "ipython",
    "version": 3
   },
   "file_extension": ".py",
   "mimetype": "text/x-python",
   "name": "python",
   "nbconvert_exporter": "python",
   "pygments_lexer": "ipython3",
   "version": "3.12.3"
  }
 },
 "nbformat": 4,
 "nbformat_minor": 5
}

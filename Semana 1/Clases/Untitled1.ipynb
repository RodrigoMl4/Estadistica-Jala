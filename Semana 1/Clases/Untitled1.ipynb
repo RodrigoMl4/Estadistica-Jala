{
 "cells": [
  {
   "cell_type": "code",
   "execution_count": 3,
   "id": "aef08458-f551-42a7-9eca-067e21f427e1",
   "metadata": {},
   "outputs": [
    {
     "name": "stdout",
     "output_type": "stream",
     "text": [
      "Altura promedio del Equipo 1: 169.6\n",
      "Altura promedio del Equipo 2: 172.6\n",
      "Altura promedio general: 171.1\n"
     ]
    }
   ],
   "source": [
    "import numpy as np\n",
    "import pandas as pd\n",
    "\n",
    "# Equipos\n",
    "equipo1 = np.array([170, 165, 178, 160, 175])\n",
    "equipo2 = np.array([175, 179, 168, 178, 163])\n",
    "\n",
    "# Calcular\n",
    "promedio_equipo1 = np.mean(equipo1)\n",
    "promedio_equipo2 = np.mean(equipo2)\n",
    "\n",
    "# Calcular el promedio general de altura\n",
    "todas_alturas = np.concatenate([equipo1, equipo2])\n",
    "promedio_total = np.mean(todas_alturas)\n",
    "\n",
    "# Imprimir los resultados\n",
    "print(\"Altura promedio del Equipo 1:\", promedio_equipo1)\n",
    "print(\"Altura promedio del Equipo 2:\", promedio_equipo2)\n",
    "print(\"Altura promedio general:\", promedio_total)\n"
   ]
  },
  {
   "cell_type": "code",
   "execution_count": 2,
   "id": "9780b07c-a187-4f3a-8fcc-53cea7b2083f",
   "metadata": {},
   "outputs": [
    {
     "name": "stdout",
     "output_type": "stream",
     "text": [
      "Altura promedio del Equipo 1: 169.6\n",
      "Altura promedio del Equipo 2: 172.6\n",
      "Altura promedio general: 171.1\n"
     ]
    }
   ],
   "source": [
    "# Equipos\n",
    "equipo1 = [170, 165, 178, 160, 175]\n",
    "equipo2 = [175, 179, 168, 178, 163]\n",
    "\n",
    "# Calcular\n",
    "promedio_equipo1 = sum(equipo1) / len(equipo1)\n",
    "promedio_equipo2 = sum(equipo2) / len(equipo2)\n",
    "\n",
    "# Calcular el promedio general de altura\n",
    "todas_alturas = equipo1 + equipo2\n",
    "promedio_total = sum(todas_alturas) / len(todas_alturas)\n",
    "\n",
    "# Imprimir los resultados\n",
    "print(\"Altura promedio del Equipo 1:\", promedio_equipo1)\n",
    "print(\"Altura promedio del Equipo 2:\", promedio_equipo2)\n",
    "print(\"Altura promedio general:\", promedio_total)\n"
   ]
  },
  {
   "cell_type": "code",
   "execution_count": 8,
   "id": "6f1e7941-dace-4369-9bff-cc1a930a4aa9",
   "metadata": {},
   "outputs": [
    {
     "name": "stdout",
     "output_type": "stream",
     "text": [
      "La mediana es: 87.0\n",
      "La promedio es: 89.3\n",
      "La std es: 12.458330546265016\n"
     ]
    }
   ],
   "source": [
    "# Datos\n",
    "registros = np.array([91, 76, 80, 113, 110, 80, 76, 85, 89, 93])\n",
    "\n",
    "# Calculos\n",
    "mediana = np.median(registros_ordenados)\n",
    "promedio = np.mean(registros_ordenados)\n",
    "std = np.std(registros_ordenados)\n",
    "# Resultados\n",
    "print(\"La mediana es:\", mediana)\n",
    "print(\"La promedio es:\", promedio)\n",
    "print(\"La std es:\", std)\n"
   ]
  },
  {
   "cell_type": "code",
   "execution_count": null,
   "id": "a0a1b881-93e1-4d48-b042-71dec9dba1cc",
   "metadata": {},
   "outputs": [],
   "source": [
    "# Cuartiles\n",
    "\n"
   ]
  },
  {
   "cell_type": "code",
   "execution_count": null,
   "id": "36f0e297-dd6a-4fdc-9645-a4a835378276",
   "metadata": {},
   "outputs": [],
   "source": []
  }
 ],
 "metadata": {
  "kernelspec": {
   "display_name": "Python 3 (ipykernel)",
   "language": "python",
   "name": "python3"
  },
  "language_info": {
   "codemirror_mode": {
    "name": "ipython",
    "version": 3
   },
   "file_extension": ".py",
   "mimetype": "text/x-python",
   "name": "python",
   "nbconvert_exporter": "python",
   "pygments_lexer": "ipython3",
   "version": "3.12.3"
  }
 },
 "nbformat": 4,
 "nbformat_minor": 5
}

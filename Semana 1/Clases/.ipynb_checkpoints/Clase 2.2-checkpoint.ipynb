{
 "cells": [
  {
   "cell_type": "code",
   "execution_count": null,
   "id": "aef08458-f551-42a7-9eca-067e21f427e1",
   "metadata": {},
   "outputs": [],
   "source": [
    "import numpy as np\n",
    "import pandas as pd\n",
    "\n",
    "# Equipos\n",
    "equipo1 = np.array([170, 165, 178, 160, 175])\n",
    "equipo2 = np.array([175, 179, 168, 178, 163])\n",
    "\n",
    "# Calcular\n",
    "promedio_equipo1 = np.mean(equipo1)\n",
    "promedio_equipo2 = np.mean(equipo2)\n",
    "\n",
    "# Calcular el promedio general de altura\n",
    "todas_alturas = np.concatenate([equipo1, equipo2])\n",
    "promedio_total = np.mean(todas_alturas)\n",
    "\n",
    "# Crear un DataFrame de Pandas para imprimir los resultados\n",
    "resultados = pd.DataFrame({\n",
    "    \"Equipo\": [\"Equipo 1\", \"Equipo 2\", \"Promedio general\"],\n",
    "    \"Altura promedio\": [promedio_equipo1, promedio_equipo2, promedio_total]\n",
    "})\n",
    "\n",
    "print(resultados)\n"
   ]
  }
 ],
 "metadata": {
  "kernelspec": {
   "display_name": "Python 3 (ipykernel)",
   "language": "python",
   "name": "python3"
  },
  "language_info": {
   "codemirror_mode": {
    "name": "ipython",
    "version": 3
   },
   "file_extension": ".py",
   "mimetype": "text/x-python",
   "name": "python",
   "nbconvert_exporter": "python",
   "pygments_lexer": "ipython3",
   "version": "3.12.3"
  }
 },
 "nbformat": 4,
 "nbformat_minor": 5
}

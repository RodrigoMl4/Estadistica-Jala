{
 "cells": [
  {
   "cell_type": "code",
   "execution_count": 22,
   "id": "4ca9ca93-2b95-4424-b766-06e018b76d6c",
   "metadata": {},
   "outputs": [],
   "source": [
    "import pandas as pd\n",
    "import numpy as np"
   ]
  },
  {
   "cell_type": "code",
   "execution_count": 23,
   "id": "a951e781-ad1f-45fc-8174-b36c7822ce04",
   "metadata": {},
   "outputs": [
    {
     "name": "stdout",
     "output_type": "stream",
     "text": [
      "La moda de las ventas diarias es: 15\n"
     ]
    }
   ],
   "source": [
    "data = [0, 4, 10, 15, 19, 0, 4, 10, 15, 19, 2, 6, 11, 15, 20, 2, 8, 14, 16, 22]\n",
    "\n",
    "df = pd.DataFrame(data, columns=['Ventas'])\n",
    "\n",
    "moda = df['Ventas'].mode().iloc[0]\n",
    "\n",
    "print(\"La moda de las ventas diarias es:\", moda)\n"
   ]
  },
  {
   "cell_type": "code",
   "execution_count": 24,
   "id": "24b61ea5-3fd7-442f-8907-43c0c669fce7",
   "metadata": {},
   "outputs": [
    {
     "name": "stdout",
     "output_type": "stream",
     "text": [
      "Media y Mediana de Group 1: 10, 10\n",
      "Media y Mediana de Group 2: 27.6, 10\n",
      "Media y Mediana de Group 3: 207.6, 10\n"
     ]
    }
   ],
   "source": [
    "import statistics\n",
    "\n",
    "# Definir grupos\n",
    "group_1 = [8, 9, 10, 11, 12]\n",
    "group_2 = [8, 9, 10, 11, 100]\n",
    "group_3 = [8, 9, 10, 11, 1000]\n",
    "\n",
    "# Calcular media y mediana de cada grupo\n",
    "media_y_mediana_1 = (statistics.mean(group_1), statistics.median(group_1))\n",
    "media_y_mediana_2 = (statistics.mean(group_2), statistics.median(group_2))\n",
    "media_y_mediana_3 = (statistics.mean(group_3), statistics.median(group_3))\n",
    "\n",
    "# Imprimir resultados\n",
    "print(f\"Media y Mediana de Group 1: {media_y_mediana_1[0]}, {media_y_mediana_1[1]}\")\n",
    "print(f\"Media y Mediana de Group 2: {media_y_mediana_2[0]}, {media_y_mediana_2[1]}\")\n",
    "print(f\"Media y Mediana de Group 3: {media_y_mediana_3[0]}, {media_y_mediana_3[1]}\")"
   ]
  },
  {
   "cell_type": "code",
   "execution_count": 25,
   "id": "56622928-3dfa-4436-bd1a-8ed960ce05e0",
   "metadata": {},
   "outputs": [
    {
     "name": "stdout",
     "output_type": "stream",
     "text": [
      "Media y Mediana de Group 1: 10.0, 10.0\n",
      "Media y Mediana de Group 2: 27.6, 10.0\n",
      "Media y Mediana de Group 3: 207.6, 10.0\n"
     ]
    }
   ],
   "source": [
    "import numpy as np\n",
    "\n",
    "group_1 = np.array([8, 9, 10, 11, 12])\n",
    "group_2 = np.array([8, 9, 10, 11, 100])\n",
    "group_3 = np.array([8, 9, 10, 11, 1000])\n",
    "\n",
    "media_1 = np.mean(group_1)\n",
    "media_2 = np.mean(group_2)\n",
    "media_3 = np.mean(group_3)\n",
    "\n",
    "mediana_1 = np.percentile(group_1, 50)\n",
    "mediana_2 = np.percentile(group_2, 50)\n",
    "mediana_3 = np.percentile(group_3, 50)\n",
    "\n",
    "print(f\"Media y Mediana de Group 1: {media_1}, {mediana_1}\")\n",
    "print(f\"Media y Mediana de Group 2: {media_2}, {mediana_2}\")\n",
    "print(f\"Media y Mediana de Group 3: {media_3}, {mediana_3}\")"
   ]
  },
  {
   "cell_type": "markdown",
   "id": "348ed75a-6381-46c2-9ae7-efb3e5e7d60c",
   "metadata": {},
   "source": [
    "- Grupo 1: La media y la mediana son iguales (10.0). Esto sugiere que los datos están distribuidos uniformemente alrededor de la media.\n",
    "- Grupo 2: La media (27.6) es mayor que la mediana (10.0). Esto sugiere que los datos están sesgados hacia la derecha, lo que significa que hay algunos   valores altos que están alejando la media de la mediana.\n",
    "- Grupo 3: La media (207.6) es mucho mayor que la mediana (10.0). Esto sugiere que los datos están fuertemente sesgados hacia la derecha, lo que significa que hay valores extremadamente altos que están alejando la media de la mediana."
   ]
  },
  {
   "cell_type": "code",
   "execution_count": 26,
   "id": "02e5d5f5-37e1-439f-aa3f-8e248c848612",
   "metadata": {},
   "outputs": [
    {
     "data": {
      "image/png": "[encoded data removed]",
      "text/plain": [
       "<Figure size 640x480 with 1 Axes>"
      ]
     },
     "metadata": {},
     "output_type": "display_data"
    }
   ],
   "source": [
    "import numpy as np\n",
    "import matplotlib.pyplot as plt\n",
    "\n",
    "group_1 = np.array([8, 9, 10, 11, 12])\n",
    "group_2 = np.array([8, 9, 10, 11, 100])\n",
    "group_3 = np.array([8, 9, 10, 11, 1000])\n",
    "\n",
    "media_1 = np.mean(group_1)\n",
    "media_2 = np.mean(group_2)\n",
    "media_3 = np.mean(group_3)\n",
    "\n",
    "mediana_1 = np.percentile(group_1, 50)\n",
    "mediana_2 = np.percentile(group_2, 50)\n",
    "mediana_3 = np.percentile(group_3, 50)\n",
    "\n",
    "# Crear un gráfico de barras\n",
    "fig, ax = plt.subplots()\n",
    "\n",
    "# Agregar las medias\n",
    "ax.bar(['Group 1', 'Group 2', 'Group 3'], [media_1, media_2, media_3], label='Media')\n",
    "\n",
    "# Agregar las medianas\n",
    "ax.bar(['Group 1', 'Group 2', 'Group 3'], [mediana_1, mediana_2, mediana_3], label='Mediana')\n",
    "\n",
    "# Configurar el gráfico\n",
    "ax.set_xlabel('Grupo')\n",
    "ax.set_ylabel('Valor')\n",
    "ax.set_title('Medias y Medianas de cada Grupo')\n",
    "ax.legend()\n",
    "\n",
    "# Mostrar el gráfico\n",
    "plt.show()"
   ]
  }
 ],
 "metadata": {
  "kernelspec": {
   "display_name": "Python 3 (ipykernel)",
   "language": "python",
   "name": "python3"
  },
  "language_info": {
   "codemirror_mode": {
    "name": "ipython",
    "version": 3
   },
   "file_extension": ".py",
   "mimetype": "text/x-python",
   "name": "python",
   "nbconvert_exporter": "python",
   "pygments_lexer": "ipython3",
   "version": "3.12.3"
  }
 },
 "nbformat": 4,
 "nbformat_minor": 5
}

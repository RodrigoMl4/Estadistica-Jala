{
 "cells": [
  {
   "cell_type": "code",
   "execution_count": 13,
   "id": "5bcde24e-05be-4da6-ad2e-4147047e3084",
   "metadata": {},
   "outputs": [],
   "source": [
    "import pandas as pd\n",
    "import numpy as np"
   ]
  },
  {
   "cell_type": "code",
   "execution_count": 14,
   "id": "87cd10e1-730b-445d-952a-6e881f0ce556",
   "metadata": {},
   "outputs": [],
   "source": [
    "df = pd.read_csv('higher_ed_employee_salaries.csv', encoding='latin1')"
   ]
  },
  {
   "cell_type": "code",
   "execution_count": 15,
   "id": "e0951de8-993e-45de-8a4b-be5709ea0c9f",
   "metadata": {},
   "outputs": [
    {
     "data": {
      "text/html": [
       "<div>\n",
       "<style scoped>\n",
       "    .dataframe tbody tr th:only-of-type {\n",
       "        vertical-align: middle;\n",
       "    }\n",
       "\n",
       "    .dataframe tbody tr th {\n",
       "        vertical-align: top;\n",
       "    }\n",
       "\n",
       "    .dataframe thead th {\n",
       "        text-align: right;\n",
       "    }\n",
       "</style>\n",
       "<table border=\"1\" class=\"dataframe\">\n",
       "  <thead>\n",
       "    <tr style=\"text-align: right;\">\n",
       "      <th></th>\n",
       "      <th>Name</th>\n",
       "      <th>School</th>\n",
       "      <th>Job Description</th>\n",
       "      <th>Department</th>\n",
       "      <th>Earnings</th>\n",
       "      <th>Year</th>\n",
       "    </tr>\n",
       "  </thead>\n",
       "  <tbody>\n",
       "    <tr>\n",
       "      <th>0</th>\n",
       "      <td>Don Potter</td>\n",
       "      <td>University of Akron</td>\n",
       "      <td>Assistant Lecturer</td>\n",
       "      <td>Social Work</td>\n",
       "      <td>2472.00</td>\n",
       "      <td>2019</td>\n",
       "    </tr>\n",
       "    <tr>\n",
       "      <th>1</th>\n",
       "      <td>Emily Potter</td>\n",
       "      <td>The Ohio State University</td>\n",
       "      <td>Administrative Assistant 3</td>\n",
       "      <td>Arts and Sciences | Chemistry and Biochemistry...</td>\n",
       "      <td>48538.02</td>\n",
       "      <td>2022</td>\n",
       "    </tr>\n",
       "    <tr>\n",
       "      <th>2</th>\n",
       "      <td>Carol Jean Potter</td>\n",
       "      <td>The Ohio State University</td>\n",
       "      <td>Associate Professor-Clinical</td>\n",
       "      <td>Pediatrics</td>\n",
       "      <td>22722.80</td>\n",
       "      <td>2013</td>\n",
       "    </tr>\n",
       "    <tr>\n",
       "      <th>3</th>\n",
       "      <td>Kim Potter</td>\n",
       "      <td>The Ohio State University</td>\n",
       "      <td>Manager 4, Compliance</td>\n",
       "      <td>Legal Affairs | Compliance</td>\n",
       "      <td>170143.44</td>\n",
       "      <td>2022</td>\n",
       "    </tr>\n",
       "    <tr>\n",
       "      <th>4</th>\n",
       "      <td>Graham Potter</td>\n",
       "      <td>Miami University</td>\n",
       "      <td>Building and Grounds Assistant</td>\n",
       "      <td>Assoc VP Housing,Dining,Rec,Bus Svc</td>\n",
       "      <td>3075.20</td>\n",
       "      <td>2012</td>\n",
       "    </tr>\n",
       "  </tbody>\n",
       "</table>\n",
       "</div>"
      ],
      "text/plain": [
       "                Name                     School  \\\n",
       "0         Don Potter        University of Akron   \n",
       "1       Emily Potter  The Ohio State University   \n",
       "2  Carol Jean Potter  The Ohio State University   \n",
       "3         Kim Potter  The Ohio State University   \n",
       "4      Graham Potter           Miami University   \n",
       "\n",
       "                  Job Description  \\\n",
       "0              Assistant Lecturer   \n",
       "1      Administrative Assistant 3   \n",
       "2    Associate Professor-Clinical   \n",
       "3           Manager 4, Compliance   \n",
       "4  Building and Grounds Assistant   \n",
       "\n",
       "                                          Department   Earnings  Year  \n",
       "0                                        Social Work    2472.00  2019  \n",
       "1  Arts and Sciences | Chemistry and Biochemistry...   48538.02  2022  \n",
       "2                                         Pediatrics   22722.80  2013  \n",
       "3                         Legal Affairs | Compliance  170143.44  2022  \n",
       "4                Assoc VP Housing,Dining,Rec,Bus Svc    3075.20  2012  "
      ]
     },
     "execution_count": 15,
     "metadata": {},
     "output_type": "execute_result"
    }
   ],
   "source": [
    "df.head()"
   ]
  },
  {
   "cell_type": "code",
   "execution_count": 17,
   "id": "349439d8-5718-42fc-be2d-4d084124cd4c",
   "metadata": {},
   "outputs": [],
   "source": [
    "salaries = df['Earnings'].values\n",
    "salaries = df['Earnings'].dropna().values"
   ]
  },
  {
   "cell_type": "code",
   "execution_count": 18,
   "id": "be202492-08c7-4ffb-a07e-649364f0a6ad",
   "metadata": {},
   "outputs": [
    {
     "name": "stdout",
     "output_type": "stream",
     "text": [
      "Mean salary: $nan\n",
      "Median salary: $nan\n"
     ]
    }
   ],
   "source": [
    "# Calculate the mean salary\n",
    "mean_salary = np.mean(salaries)\n",
    "\n",
    "# Calculate the median salary\n",
    "median_salary = np.median(salaries)\n",
    "\n",
    "print(f'Mean salary: ${mean_salary:.2f}')\n",
    "print(f'Median salary: ${median_salary:.2f}')"
   ]
  },
  {
   "cell_type": "code",
   "execution_count": null,
   "id": "58d4fd3c-07ef-48b7-ba37-9ee909186c94",
   "metadata": {},
   "outputs": [],
   "source": []
  }
 ],
 "metadata": {
  "kernelspec": {
   "display_name": "Python 3 (ipykernel)",
   "language": "python",
   "name": "python3"
  },
  "language_info": {
   "codemirror_mode": {
    "name": "ipython",
    "version": 3
   },
   "file_extension": ".py",
   "mimetype": "text/x-python",
   "name": "python",
   "nbconvert_exporter": "python",
   "pygments_lexer": "ipython3",
   "version": "3.12.3"
  }
 },
 "nbformat": 4,
 "nbformat_minor": 5
}

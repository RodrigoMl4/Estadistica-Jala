{
 "cells": [
  {
   "cell_type": "markdown",
   "id": "aac0f6a5-c2a4-4048-af27-ec014cec0891",
   "metadata": {},
   "source": [
    "<h1 style=\"text-align:center;\">Jala University</h1>\n",
    "<img src=\"https://encrypted-tbn0.gstatic.com/images?q=tbn:ANd9GcTnOCQVLFaOYgbd3ydQzrKbpcTChO1ERykvoIIdugeUPQ&s\" alt=\"Logo de Jala University\" style=\"display:block; margin:auto;\">\n",
    "\n",
    "<h1 style=\"text-align:center;\">Tarea 2.5 - Estadística</h1>\n",
    "\n",
    "<h3 style=\"text-align:center;\">Estudiante:</h3>\n",
    "<h4 style=\"text-align:center;\">Rodrigo Machaca</h4>\n",
    "\n",
    "<h3 style=\"text-align:center;\">Docente:</h3>\n",
    "<h4 style=\"text-align:center;\">Wilmar Alzate Berrio</h4>\n",
    "\n",
    "<p style=\"text-align:center;\">Fecha: 11/5/2024</p>\n"
   ]
  },
  {
   "cell_type": "markdown",
   "id": "c8028465-1c2a-4160-aae8-bb5e79d3e37d",
   "metadata": {},
   "source": [
    "# Actividad #1\n",
    "\n",
    "El siguiente diagrama muestra el número de ventas realizadas durante la mañana del 1 de mayo por cada uno de los 30 empleados en un almacén.\n",
    "\n",
    "<img src=\"https://i.ibb.co/8j0qKjz/Captura-de-pantalla-2024-05-11-002240.png\" alt=\"Logo de Jala University\" style=\"display:block; margin:auto;\">"
   ]
  },
  {
   "cell_type": "markdown",
   "id": "fc4e3e15-3725-4176-8742-70cbabd32267",
   "metadata": {},
   "source": [
    "a. **¿Cuáles son los números máximo y mínimo de ventas realizadas por un empleado de la tienda?**\n",
    "   - El número máximo de ventas por un empleado es 12, mientras que el mínimo es 6. El mínimo se debe a que en el 0 de ventas trabajaron 3 empleados y en la columna minima donde solo hay un empleado es la 6.\n",
    "\n",
    "b. **¿Cuántos empleados realizaron 10 ventas?**\n",
    "   - Según el diagrama, 5 empleados realizaron exactamente 10 ventas, cada uno representado por un punto en el diagrama.\n",
    "\n",
    "c. **¿Cuántos empleados realizaron más de una venta y hasta tres ventas?**\n",
    "   - En total, 9 empleados realizaron más de una venta y hasta tres ventas. De estos, 4 empleados hicieron exactamente 2 ventas, mientras que 5 empleados hicieron 3 ventas."
   ]
  },
  {
   "cell_type": "markdown",
   "id": "fec1b24e-8f8b-4598-a083-fba8e6b2ecc1",
   "metadata": {},
   "source": [
    "# Actividad #2\n",
    "\n",
    "Considere la edad de los presidentes de Estados Unidos en el momento de su toma de posesión, desde Thomas Jefferson hasta Joe Biden. Por ejemplo, el último número de la lista, 78, corresponde a la edad de Joe Biden al asumir la presidencia.\n",
    "\n",
    "Edades: [57, 61, 57, 57, 58, 57, 61, 54, 68, 51, 49, 64, 50, 48, 65, 52, 56, 46, 54, 49, 51, 47, 55, 55, 54, 42, 51, 56, 55, 51, 54, 51, 60, 61, 43, 55, 56, 61, 52, 69, 64, 46, 54, 47, 70, 78]\n",
    "\n",
    "Cree un diagrama de puntos que represente estas edades.\n",
    "\n",
    "¿Cuál es la edad más frecuente en la toma de posesión de un presidente de Estados Unidos?\n"
   ]
  },
  {
   "cell_type": "code",
   "execution_count": 12,
   "id": "f61a7b76-ff4d-4ef0-a0e5-aacd99a2ee8b",
   "metadata": {},
   "outputs": [
    {
     "data": {
      "image/png": "[encoded data removed]",
      "text/plain": [
       "<Figure size 1500x500 with 1 Axes>"
      ]
     },
     "metadata": {},
     "output_type": "display_data"
    }
   ],
   "source": [
    "import matplotlib.pyplot as plt\n",
    "\n",
    "edades = [57, 61, 57, 57, 58, 57, 61, 54, 68, 51, 49, 64, 50, 48, 65, 52, 56, 46, 54, 49, 51, 47, 55, 55, 54, 42, 51, 56, 55, 51, 54, 51, 60, 61, 43, 55, 56, 61, 52, 69, 64, 46, 54, 47, 70, 78]\n",
    "\n",
    "conteo_edades = {}\n",
    "for edad in edades:\n",
    "    conteo_edades[edad] = conteo_edades.get(edad, 0) + 1\n",
    "\n",
    "plt.figure(figsize=(15, 5))\n",
    "for edad, conteo in conteo_edades.items():\n",
    "    for i in range(conteo):\n",
    "        plt.plot(edad, i+1, 'ro', markersize=8)  \n",
    "\n",
    "plt.xlabel('Edad al momento de la toma de posesión')\n",
    "plt.ylabel('Presidentes')\n",
    "plt.title('Edades de los presidentes de EE. UU. al asumir el cargo')\n",
    "plt.yticks([])  \n",
    "plt.grid(axis='x')  \n",
    "plt.show()\n"
   ]
  },
  {
   "cell_type": "markdown",
   "id": "f0ca3729-47f8-477e-be1f-0959c6942441",
   "metadata": {},
   "source": [
    "# Respuesta Análisis\n",
    "\n",
    "Según el diagrama, podemos observar que hay dos edades en las cuales es más frecuente la posesión de los presidentes: a los 51 años, con 5 presidentes representados por los puntos rojos, y a los 54 años, de la misma manera. A continuación, veremos cómo calcular la moda, que es el valor que nos ayudará a confirmar esto. Primero utilizaremos la biblioteca Counter y luego Pandas para ver cuál es el valor de moda que nos devuelven.\n"
   ]
  },
  {
   "cell_type": "code",
   "execution_count": 15,
   "id": "7dfa741b-e277-4f7f-911d-f446d4cd9fde",
   "metadata": {},
   "outputs": [
    {
     "name": "stdout",
     "output_type": "stream",
     "text": [
      "La edad más frecuente en la toma de posesión de un presidente de Estados Unidos es: (54, 5)\n"
     ]
    }
   ],
   "source": [
    "from collections import Counter\n",
    "\n",
    "edades = [57, 61, 57, 57, 58, 57, 61, 54, 68, 51, 49, 64, 50, 48, 65, 52, 56, 46, 54, 49, 51, 47, 55, 55, 54, 42, 51, 56, 55, 51, 54, 51, 60, 61, 43, 55, 56, 61, 52, 69, 64, 46, 54, 47, 70, 78]\n",
    "\n",
    "moda = Counter(edades).most_common(1)[0]\n",
    "\n",
    "print(\"La edad más frecuente en la toma de posesión de un presidente de Estados Unidos es:\", moda)\n"
   ]
  },
  {
   "cell_type": "code",
   "execution_count": 16,
   "id": "cbd42843-b3ce-4a14-a55e-7ed99565d53b",
   "metadata": {},
   "outputs": [
    {
     "name": "stdout",
     "output_type": "stream",
     "text": [
      "La edad más frecuente en la toma de posesión de un presidente de Estados Unidos es: 51\n"
     ]
    }
   ],
   "source": [
    "import pandas as pd\n",
    "\n",
    "edades = [57, 61, 57, 57, 58, 57, 61, 54, 68, 51, 49, 64, 50, 48, 65, 52, 56, 46, 54, 49, 51, 47, 55, 55, 54, 42, 51, 56, 55, 51, 54, 51, 60, 61, 43, 55, 56, 61, 52, 69, 64, 46, 54, 47, 70, 78]\n",
    "\n",
    "df = pd.DataFrame(edades, columns=['Edades'])\n",
    "\n",
    "moda = df['Edades'].mode().values[0]\n",
    "\n",
    "print(\"La edad más frecuente en la toma de posesión de un presidente de Estados Unidos es:\", moda)\n"
   ]
  },
  {
   "cell_type": "markdown",
   "id": "d6641bff-99ca-450f-97c0-790fb184554a",
   "metadata": {},
   "source": [
    "# Conclusiones\n",
    "\n",
    "Con Counter, determinamos que la moda es 54 con 5 presidentes, mientras que con Pandas también obtuvimos que la moda es 51. En conclusión, estas son las dos edades en las que es más frecuente la posesión de los presidentes.\n"
   ]
  }
 ],
 "metadata": {
  "kernelspec": {
   "display_name": "Python 3 (ipykernel)",
   "language": "python",
   "name": "python3"
  },
  "language_info": {
   "codemirror_mode": {
    "name": "ipython",
    "version": 3
   },
   "file_extension": ".py",
   "mimetype": "text/x-python",
   "name": "python",
   "nbconvert_exporter": "python",
   "pygments_lexer": "ipython3",
   "version": "3.12.3"
  }
 },
 "nbformat": 4,
 "nbformat_minor": 5
}

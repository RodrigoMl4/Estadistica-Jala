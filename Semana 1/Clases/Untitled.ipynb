{
 "cells": [
  {
   "cell_type": "code",
   "execution_count": 13,
   "id": "5bcde24e-05be-4da6-ad2e-4147047e3084",
   "metadata": {},
   "outputs": [],
   "source": [
    "import pandas as pd\n",
    "import numpy as np"
   ]
  },
  {
   "cell_type": "code",
   "execution_count": 14,
   "id": "87cd10e1-730b-445d-952a-6e881f0ce556",
   "metadata": {},
   "outputs": [],
   "source": [
    "df = pd.read_csv('higher_ed_employee_salaries.csv', encoding='latin1')"
   ]
  },
  {
   "cell_type": "code",
   "execution_count": 15,
   "id": "e0951de8-993e-45de-8a4b-be5709ea0c9f",
   "metadata": {},
   "outputs": [
    {
     "data": {
      "text/html": [
       "<div>\n",
       "<style scoped>\n",
       "    .dataframe tbody tr th:only-of-type {\n",
       "        vertical-align: middle;\n",
       "    }\n",
       "\n",
       "    .dataframe tbody tr th {\n",
       "        vertical-align: top;\n",
       "    }\n",
       "\n",
       "    .dataframe thead th {\n",
       "        text-align: right;\n",
       "    }\n",
       "</style>\n",
       "<table border=\"1\" class=\"dataframe\">\n",
       "  <thead>\n",
       "    <tr style=\"text-align: right;\">\n",
       "      <th></th>\n",
       "      <th>Name</th>\n",
       "      <th>School</th>\n",
       "      <th>Job Description</th>\n",
       "      <th>Department</th>\n",
       "      <th>Earnings</th>\n",
       "      <th>Year</th>\n",
       "    </tr>\n",
       "  </thead>\n",
       "  <tbody>\n",
       "    <tr>\n",
       "      <th>0</th>\n",
       "      <td>Don Potter</td>\n",
       "      <td>University of Akron</td>\n",
       "      <td>Assistant Lecturer</td>\n",
       "      <td>Social Work</td>\n",
       "      <td>2472.00</td>\n",
       "      <td>2019</td>\n",
       "    </tr>\n",
       "    <tr>\n",
       "      <th>1</th>\n",
       "      <td>Emily Potter</td>\n",
       "      <td>The Ohio State University</td>\n",
       "      <td>Administrative Assistant 3</td>\n",
       "      <td>Arts and Sciences | Chemistry and Biochemistry...</td>\n",
       "      <td>48538.02</td>\n",
       "      <td>2022</td>\n",
       "    </tr>\n",
       "    <tr>\n",
       "      <th>2</th>\n",
       "      <td>Carol Jean Potter</td>\n",
       "      <td>The Ohio State University</td>\n",
       "      <td>Associate Professor-Clinical</td>\n",
       "      <td>Pediatrics</td>\n",
       "      <td>22722.80</td>\n",
       "      <td>2013</td>\n",
       "    </tr>\n",
       "    <tr>\n",
       "      <th>3</th>\n",
       "      <td>Kim Potter</td>\n",
       "      <td>The Ohio State University</td>\n",
       "      <td>Manager 4, Compliance</td>\n",
       "      <td>Legal Affairs | Compliance</td>\n",
       "      <td>170143.44</td>\n",
       "      <td>2022</td>\n",
       "    </tr>\n",
       "    <tr>\n",
       "      <th>4</th>\n",
       "      <td>Graham Potter</td>\n",
       "      <td>Miami University</td>\n",
       "      <td>Building and Grounds Assistant</td>\n",
       "      <td>Assoc VP Housing,Dining,Rec,Bus Svc</td>\n",
       "      <td>3075.20</td>\n",
       "      <td>2012</td>\n",
       "    </tr>\n",
       "  </tbody>\n",
       "</table>\n",
       "</div>"
      ],
      "text/plain": [
       "                Name                     School  \\\n",
       "0         Don Potter        University of Akron   \n",
       "1       Emily Potter  The Ohio State University   \n",
       "2  Carol Jean Potter  The Ohio State University   \n",
       "3         Kim Potter  The Ohio State University   \n",
       "4      Graham Potter           Miami University   \n",
       "\n",
       "                  Job Description  \\\n",
       "0              Assistant Lecturer   \n",
       "1      Administrative Assistant 3   \n",
       "2    Associate Professor-Clinical   \n",
       "3           Manager 4, Compliance   \n",
       "4  Building and Grounds Assistant   \n",
       "\n",
       "                                          Department   Earnings  Year  \n",
       "0                                        Social Work    2472.00  2019  \n",
       "1  Arts and Sciences | Chemistry and Biochemistry...   48538.02  2022  \n",
       "2                                         Pediatrics   22722.80  2013  \n",
       "3                         Legal Affairs | Compliance  170143.44  2022  \n",
       "4                Assoc VP Housing,Dining,Rec,Bus Svc    3075.20  2012  "
      ]
     },
     "execution_count": 15,
     "metadata": {},
     "output_type": "execute_result"
    }
   ],
   "source": [
    "df.head()"
   ]
  },
  {
   "cell_type": "code",
   "execution_count": 19,
   "id": "349439d8-5718-42fc-be2d-4d084124cd4c",
   "metadata": {},
   "outputs": [],
   "source": [
    "salaries = df['Earnings'].values\n",
    "salaries = df['Earnings'].dropna().values"
   ]
  },
  {
   "cell_type": "code",
   "execution_count": 20,
   "id": "be202492-08c7-4ffb-a07e-649364f0a6ad",
   "metadata": {},
   "outputs": [
    {
     "name": "stdout",
     "output_type": "stream",
     "text": [
      "Mean salary: $54659.13\n",
      "Median salary: $44525.01\n"
     ]
    }
   ],
   "source": [
    "# Calculate the mean salary\n",
    "mean_salary = np.mean(salaries)\n",
    "\n",
    "# Calculate the median salary\n",
    "median_salary = np.median(salaries)\n",
    "\n",
    "print(f'Mean salary: ${mean_salary:.2f}')\n",
    "print(f'Median salary: ${median_salary:.2f}')"
   ]
  },
  {
   "cell_type": "code",
   "execution_count": 23,
   "id": "58d4fd3c-07ef-48b7-ba37-9ee909186c94",
   "metadata": {},
   "outputs": [
    {
     "name": "stdout",
     "output_type": "stream",
     "text": [
      "Median salary: $45000.00\n",
      "Mode salary: $54659.13\n",
      "Range salary: $8021376.54\n",
      "Standard Deviation salary: $61055.36\n",
      "Q1 salary: $20680.01\n",
      "Q3 salary: $70609.28\n",
      "5th percentile salary: $1686.65\n",
      "95th percentile salary: $138136.53\n"
     ]
    }
   ],
   "source": [
    "median_salary = np.median(salaries)\n",
    "unique_salaries, counts = np.unique(salaries, return_counts=True)\n",
    "mode_salary = unique_salaries[np.argmax(counts)]\n",
    "range_salary = np.percentile(salaries, 100) - np.percentile(salaries, 0)\n",
    "std_salary = np.std(salaries)\n",
    "q1_salary = np.percentile(salaries, 25)\n",
    "q3_salary = np.percentile(salaries, 75)\n",
    "p5_salary = np.percentile(salaries, 5)\n",
    "p95_salary = np.percentile(salaries, 95)\n",
    "\n",
    "# Print the results\n",
    "print(f'Median salary: ${median_salary:.2f}')\n",
    "print(f'Mode salary: ${mode_salary:.2f}')\n",
    "print(f'Range salary: ${range_salary:.2f}')\n",
    "print(f'Standard Deviation salary: ${std_salary:.2f}')\n",
    "print(f'Q1 salary: ${q1_salary:.2f}')\n",
    "print(f'Q3 salary: ${q3_salary:.2f}')\n",
    "print(f'5th percentile salary: ${p5_salary:.2f}')\n",
    "print(f'95th percentile salary: ${p95_salary:.2f}')"
   ]
  },
  {
   "cell_type": "code",
   "execution_count": 24,
   "id": "dc569b42-2f57-41d4-b6e3-5dda5dc31dff",
   "metadata": {},
   "outputs": [],
   "source": [
    "## Desviacion Estandar\n",
    "\n",
    "lista1 = [4,5,5,6,3,4,6]\n",
    "lista2 = [9,2,3,5,10,8]"
   ]
  },
  {
   "cell_type": "code",
   "execution_count": 25,
   "id": "19dada99-1913-4d3c-af64-86c4b7d94075",
   "metadata": {},
   "outputs": [
    {
     "name": "stdout",
     "output_type": "stream",
     "text": [
      "4.714285714285714\n",
      "6.166666666666667\n"
     ]
    }
   ],
   "source": [
    "print(np.mean(lista1))\n",
    "print(np.mean(lista2))"
   ]
  },
  {
   "cell_type": "code",
   "execution_count": 26,
   "id": "30096cc2-6857-4f88-9884-a898357ecc91",
   "metadata": {},
   "outputs": [
    {
     "name": "stdout",
     "output_type": "stream",
     "text": [
      "1.0301575072754257\n",
      "3.0230595245361758\n"
     ]
    }
   ],
   "source": [
    "print(np.std(lista1))\n",
    "print(np.std(lista2))"
   ]
  },
  {
   "cell_type": "code",
   "execution_count": null,
   "id": "0862cfb0-d7c0-44db-a595-b693833143da",
   "metadata": {},
   "outputs": [],
   "source": []
  }
 ],
 "metadata": {
  "kernelspec": {
   "display_name": "Python 3 (ipykernel)",
   "language": "python",
   "name": "python3"
  },
  "language_info": {
   "codemirror_mode": {
    "name": "ipython",
    "version": 3
   },
   "file_extension": ".py",
   "mimetype": "text/x-python",
   "name": "python",
   "nbconvert_exporter": "python",
   "pygments_lexer": "ipython3",
   "version": "3.12.3"
  }
 },
 "nbformat": 4,
 "nbformat_minor": 5
}
